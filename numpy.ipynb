{
 "cells": [
  {
   "cell_type": "markdown",
   "metadata": {},
   "source": [
    "# NumPy"
   ]
  },
  {
   "cell_type": "markdown",
   "metadata": {},
   "source": [
    "This shall give you an idea of the intricacies in this library and will make you appreciate why NumPy is soo useful. "
   ]
  },
  {
   "cell_type": "code",
   "execution_count": 3,
   "metadata": {},
   "outputs": [],
   "source": [
    "import numpy as np"
   ]
  },
  {
   "cell_type": "markdown",
   "metadata": {},
   "source": [
    "## Vectorization\n",
    "\n",
    "NumPy vectorization involves performing mathematical operations on entire\n",
    "arrays, eliminating the need to loop through individual elements.\n",
    "\n",
    "Let's compare the execution times of a non-vectorized program and a vectorized one.\n",
    "\n",
    "Your goal is to multiply each element of the 2D arrays by 3. Implement this using both non-vectorized and vectorized approaches.\n",
    "\n"
   ]
  },
  {
   "cell_type": "code",
   "execution_count": 87,
   "metadata": {},
   "outputs": [
    {
     "name": "stdout",
     "output_type": "stream",
     "text": [
      "Time taken in non-vectorized approach: 1024173.4981536865 ns\n",
      "Time taken in vectorized approach: 15623.807907104492 ns\n",
      "True\n"
     ]
    }
   ],
   "source": [
    "import time\n",
    "\n",
    "arr_nonvectorized = np.random.rand(1000, 1000)\n",
    "arr_vectorized = np.array(arr_nonvectorized) # making a deep copy of the array https://stackoverflow.com/questions/184710/what-is-the-difference-between-a-deep-copy-and-a-shallow-copy\n",
    "\n",
    "start_nv = time.time()\n",
    "\n",
    "# Non-vectorized approach\n",
    "# <START>\n",
    "for i in range(0,1000):\n",
    "    for j in range(0,1000):\n",
    "        arr_nonvectorized[i,j] = arr_nonvectorized[i,j]*3\n",
    "        j+=1\n",
    "    i+=1\n",
    "# <END>\n",
    "\n",
    "end_nv = time.time()\n",
    "print(\"Time taken in non-vectorized approach:\", 1000000*(end_nv-start_nv), \"ns\")\n",
    "\n",
    "start_v = time.time()\n",
    "\n",
    "# Vectorized approach\n",
    "# <START>\n",
    "arr_vectorized = arr_vectorized*3\n",
    "# <END>\n",
    "\n",
    "end_v = time.time()\n",
    "print(\"Time taken in vectorized approach:\", 1000000*(end_v-start_v), \"ns\")\n",
    "\n",
    "# uncomment and execute the below line to convince yourself that both approaches are doing the same thing\n",
    "print(np.allclose(arr_nonvectorized, arr_vectorized))"
   ]
  },
  {
   "cell_type": "markdown",
   "metadata": {},
   "source": [
    "Perform Matrix Multiplication of A and B using vectorized and non-vectorized means and observe the time difference."
   ]
  },
  {
   "cell_type": "code",
   "execution_count": 89,
   "metadata": {},
   "outputs": [
    {
     "name": "stdout",
     "output_type": "stream",
     "text": [
      "Time taken in non-vectorized approach: 339752.197265625 ns\n",
      "Time taken in vectorized approach: 4621.267318725586 ns\n",
      "True\n"
     ]
    }
   ],
   "source": [
    "# Generate two random 500x500 matrices\n",
    "A = np.random.rand(500, 500)\n",
    "B = np.random.rand(500, 500)\n",
    "\n",
    "A_v = np.array(A)\n",
    "B_v = np.array(B)\n",
    "\n",
    "# Non-vectorized matrix multiplication\n",
    "C_nonvectorized = np.zeros((500, 500))  # Initialize result matrix\n",
    "start_nv = time.time()\n",
    "\n",
    "# <START: Non-vectorized approach>\n",
    "for i in range(0,500):\n",
    "    for j in range(0,500):\n",
    "        C_nonvectorized[i,j] = A[i,j]*B[i,j]\n",
    "        j+=1\n",
    "    i+=1\n",
    "#print(C_nonvectorized)\n",
    "# <END>\n",
    "\n",
    "end_nv = time.time()\n",
    "print(\"Time taken in non-vectorized approach:\", 1000000 * (end_nv - start_nv), \"ns\")\n",
    "\n",
    "C_vectorized = np.zeros((500, 500))\n",
    "\n",
    "# Vectorized matrix multiplication\n",
    "start_v = time.time()\n",
    "\n",
    "# <START: Vectorized approach>\n",
    "C_vectorized = A_v*B_v\n",
    "# <END>\n",
    "\n",
    "end_v = time.time()\n",
    "print(\"Time taken in vectorized approach:\", 1000000 * (end_v - start_v), \"ns\")\n",
    "\n",
    "# Uncomment and execute the below line to verify both approaches give the same result\n",
    "print(np.allclose(C_nonvectorized, C_vectorized))"
   ]
  },
  {
   "cell_type": "markdown",
   "metadata": {},
   "source": [
    "Vectorization uses NumPy's low level operations to speed things up. Make sure you know why!"
   ]
  },
  {
   "cell_type": "markdown",
   "metadata": {},
   "source": [
    "### :\\\\/: *no for loops alllowed  hereafter* :\\\\/:"
   ]
  },
  {
   "cell_type": "markdown",
   "metadata": {},
   "source": [
    "## Broadcasting\n",
    "\n",
    "You are given a set of 5 2D points as an ndarray and you want to compute the euclidean distance between each pair of points and store it into a 5*5 ndarray.\n",
    "\n",
    "*Hint: use the* `np.linalg.norm()` *function for this*"
   ]
  },
  {
   "cell_type": "code",
   "execution_count": 132,
   "metadata": {},
   "outputs": [
    {
     "name": "stdout",
     "output_type": "stream",
     "text": [
      "2D Points:\n",
      " [[1.29242763 0.65795273]\n",
      " [1.06185208 7.41115292]\n",
      " [6.62657219 8.23091168]\n",
      " [4.45854415 3.769711  ]\n",
      " [8.49707578 4.17196032]]\n",
      "A:\n",
      " [[[1.29242763 0.65795273]]\n",
      "\n",
      " [[1.06185208 7.41115292]]\n",
      "\n",
      " [[6.62657219 8.23091168]]\n",
      "\n",
      " [[4.45854415 3.769711  ]]\n",
      "\n",
      " [[8.49707578 4.17196032]]]\n",
      "B:\n",
      " [[[1.29242763 0.65795273]\n",
      "  [1.06185208 7.41115292]\n",
      "  [6.62657219 8.23091168]\n",
      "  [4.45854415 3.769711  ]\n",
      "  [8.49707578 4.17196032]]]\n",
      "M:\n",
      " [[[ 0.          0.        ]\n",
      "  [ 0.23057556 -6.75320019]\n",
      "  [-5.33414456 -7.57295895]\n",
      "  [-3.16611652 -3.11175828]\n",
      "  [-7.20464815 -3.51400759]]\n",
      "\n",
      " [[-0.23057556  6.75320019]\n",
      "  [ 0.          0.        ]\n",
      "  [-5.56472012 -0.81975876]\n",
      "  [-3.39669208  3.64144191]\n",
      "  [-7.43522371  3.2391926 ]]\n",
      "\n",
      " [[ 5.33414456  7.57295895]\n",
      "  [ 5.56472012  0.81975876]\n",
      "  [ 0.          0.        ]\n",
      "  [ 2.16802804  4.46120067]\n",
      "  [-1.87050359  4.05895135]]\n",
      "\n",
      " [[ 3.16611652  3.11175828]\n",
      "  [ 3.39669208 -3.64144191]\n",
      "  [-2.16802804 -4.46120067]\n",
      "  [ 0.          0.        ]\n",
      "  [-4.03853163 -0.40224932]]\n",
      "\n",
      " [[ 7.20464815  3.51400759]\n",
      "  [ 7.43522371 -3.2391926 ]\n",
      "  [ 1.87050359 -4.05895135]\n",
      "  [ 4.03853163  0.40224932]\n",
      "  [ 0.          0.        ]]]\n",
      "Pairwise Euclidean Distance Matrix:\n",
      " [[0.         6.75713533 9.26298037 4.43929425 8.0159344 ]\n",
      " [6.75713533 0.         5.62477683 4.9797205  8.11017387]\n",
      " [9.26298037 5.62477683 0.         4.96010655 4.46921355]\n",
      " [4.43929425 4.9797205  4.96010655 0.         4.05851478]\n",
      " [8.0159344  8.11017387 4.46921355 4.05851478 0.        ]]\n"
     ]
    }
   ],
   "source": [
    "import numpy as np\n",
    "\n",
    "# Generate a random 5x2 array of points (values between 0 and 10)\n",
    "points = np.random.rand(5, 2) * 10\n",
    "print(\"2D Points:\\n\", points)\n",
    "\n",
    "# Task: Compute pairwise Euclidean distances using broadcasting\n",
    "# <START: Pairwise distance computation>\n",
    "A = np.reshape(points, (5, 1, 2))\n",
    "B = np.reshape(points, (1, 5, 2))\n",
    "print(\"A:\\n\",A)\n",
    "print(\"B:\\n\",B)\n",
    "M = A - B\n",
    "print(\"M:\\n\",M)\n",
    "distance_matrix = np.linalg.norm(M,axis=2) # Replace with broadcasting operation\n",
    "# <END>\n",
    "\n",
    "#  Print the distance matrix\n",
    "print(\"Pairwise Euclidean Distance Matrix:\\n\", distance_matrix)\n"
   ]
  },
  {
   "cell_type": "code",
   "execution_count": null,
   "metadata": {},
   "outputs": [],
   "source": [
    "# 2 x 5 x 5\n",
    "(9.71911312 - 4.1080346)**2 + (6.53592428-5.63094852)**2"
   ]
  },
  {
   "cell_type": "markdown",
   "metadata": {},
   "source": [
    "## "
   ]
  }
 ],
 "metadata": {
  "kernelspec": {
   "display_name": "Python 3 (ipykernel)",
   "language": "python",
   "name": "python3"
  },
  "language_info": {
   "codemirror_mode": {
    "name": "ipython",
    "version": 3
   },
   "file_extension": ".py",
   "mimetype": "text/x-python",
   "name": "python",
   "nbconvert_exporter": "python",
   "pygments_lexer": "ipython3",
   "version": "3.12.3"
  }
 },
 "nbformat": 4,
 "nbformat_minor": 4
}
